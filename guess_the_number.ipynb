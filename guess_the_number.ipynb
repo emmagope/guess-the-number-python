{
 "cells": [
  {
   "cell_type": "code",
   "execution_count": 1,
   "id": "a2f8b74b-af7d-49e6-8259-2ac27ae81589",
   "metadata": {},
   "outputs": [],
   "source": [
    "import openpyxl\n",
    "import random\n",
    "import matplotlib.pyplot as grafico\n",
    "import getpass\n",
    "import ValidarEntrada as val #Importa el módulo propio con las acciones para validar la entrada del número"
   ]
  },
  {
   "cell_type": "code",
   "execution_count": 2,
   "id": "e72e2007-e870-4413-b3d9-79067b2d4504",
   "metadata": {},
   "outputs": [],
   "source": [
    "#Definimos el menú principal: \n",
    "\n",
    "def Menú_Principal():\n",
    "    while True:\n",
    "        print(\"1. Partida Modo Solitario \\n2. Partida 2 Jugadores \\n3. Estadística \\n4. Salir\")\n",
    "        opcion = int(input(\"Selecciona una opción: \"))\n",
    "        if opcion==1:\n",
    "            Modo_Solitario()\n",
    "        elif opcion==2:\n",
    "            Modo_2_Jugadores()\n",
    "        elif opcion==3:\n",
    "            estadisticas = Estadísticas()\n",
    "            graficar_estadisticas(estadisticas)\n",
    "        elif opcion==4:\n",
    "            print(\"Gracias por jugar.¡Hasta pronto!\")\n",
    "            break\n",
    "        else:\n",
    "            print(\"Opción no válida. Inténtalo de nuevo\")"
   ]
  },
  {
   "cell_type": "code",
   "execution_count": 3,
   "id": "5b0d24cc-91de-442f-bb8f-b138bb7d7d86",
   "metadata": {},
   "outputs": [],
   "source": [
    "#Definimos el submenú: \n",
    "\n",
    "def Seleccionar_Dificultad():\n",
    "    intentos_dificultad = {\n",
    "        1: (20, 1, 1000),\n",
    "        2: (12, 500, 750),\n",
    "        3: (5, 750, 1000)\n",
    "    }\n",
    "    while True:\n",
    "        print(\"1. Fácil (20 intentos, número entre 1 y 1000) \\n2. Medio (12 intentos, número entre 500 y 750) \\n3. Difícil (5 intentos, número entre 750 y 1000)\")\n",
    "        dificultad = int(input(\"Selecciona la dificultad del juego: \"))\n",
    "        if dificultad in intentos_dificultad:\n",
    "            return intentos_dificultad[dificultad]\n",
    "        else: \n",
    "            print(\"Opción no válida. Inténtalo de nuevo\")"
   ]
  },
  {
   "cell_type": "code",
   "execution_count": 4,
   "id": "1d431467-f997-43e1-9bc0-603de9645703",
   "metadata": {},
   "outputs": [],
   "source": [
    "#Definimos los modos de juego: \n",
    "\n",
    "def Modo_Solitario():\n",
    "    intentos, min_num, max_num = Seleccionar_Dificultad()\n",
    "    numero_a_adivinar = random.randint(min_num, max_num)\n",
    "    print(f\"Intenta adivinar un número entre {min_num} y {max_num}.\")\n",
    "    while intentos > 0:\n",
    "        adivinanza = int(input(\"Introduce tu número: \"))\n",
    "        if adivinanza == numero_a_adivinar: \n",
    "            print(\"¡Ehorabuena, es el número correcto! ¡HAS GANADO!\")\n",
    "            gano = True\n",
    "            break\n",
    "        elif adivinanza < numero_a_adivinar: \n",
    "            print(\"El número es mayor\")\n",
    "        elif adivinanza > numero_a_adivinar:\n",
    "            print(\"El número es menor\")\n",
    "        else: \n",
    "            print(\"Número no válido. Inténtalo de nuevo\")\n",
    "        intentos -= 1\n",
    "        print(\"Te quedan\", intentos, \"intentos.\")\n",
    "        if intentos == 0:\n",
    "            print(\"Has perdido. El número era\", numero_a_adivinar, \".¡Suerte la próxima vez!\")\n",
    "            gano = False\n",
    "    nombre = input(\"Ingresa tu nombre de usuario para registrar la partida: \")\n",
    "    registrar_partida(gano, nombre)\n",
    "    \n",
    "    \n",
    "def Modo_2_Jugadores():\n",
    "    intentos, min_num, max_num = Seleccionar_Dificultad()\n",
    "    print(f\"Jugador 1, elige un número del {min_num} al {max_num}:\")\n",
    "    while True: \n",
    "        try: \n",
    "            jugador1 = int(getpass.getpass(\"Número oculto: \"))\n",
    "            if min_num <= jugador1 <= max_num:\n",
    "                break \n",
    "            else:\n",
    "                print(f\"Por favor, introduce un número entre {min_num} y {max_num}.\")\n",
    "        except ValueError: \n",
    "            print(\"Entrada inválida, asegúrate de introducir un número entero y correcto.\")\n",
    "    print(\"Jugador 2, intenta adivinar el número seleccionado por el jugador 1.\")\n",
    "    \n",
    "    while intentos > 0:\n",
    "        jugador2 = val.validar_entrada(f\"Jugador 2, introduce un número entre {min_num} y {max_num}: \", min_num, max_num)\n",
    "        if jugador2 == jugador1:\n",
    "            print(\"¡Ehorabuena, es el número correcto! ¡Jugador 2, HAS GANADO!\")\n",
    "            gano = True\n",
    "            break\n",
    "        elif jugador2 > jugador1:\n",
    "            print(\"El número es menor.\")\n",
    "        elif jugador2 < jugador1:\n",
    "            print(\"El número es mayor.\")\n",
    "        else:\n",
    "            print(\"Número no válido. Inténtalo de nuevo.\")\n",
    "        intentos -= 1\n",
    "        print(\"Te quedan\", intentos, \"intentos.\")\n",
    "        if intentos == 0:\n",
    "            print(\"Jugador 2, has perdido. El número era\", jugador1, \".¡Suerte la próxima vez!\")\n",
    "            gano = False\n",
    "    nombre = input(\"Ingresa tu nombre de usuario para registrar la partida: \")\n",
    "    registrar_partida(gano, nombre)\n",
    "            "
   ]
  },
  {
   "cell_type": "code",
   "execution_count": 5,
   "id": "660266af-4629-463b-aa49-85fd6fc4b93c",
   "metadata": {},
   "outputs": [],
   "source": [
    "#Definimos el registro del usuario:\n",
    "\n",
    "def registrar_partida(gano, nombre):\n",
    "    directorio ='C:\\\\Users\\\\emmag\\\\Documents\\\\MASTER_DATA_SCIENCE\\\\M1_PHYTON_BASICO\\\\Adivina_Numero.xlsx'\n",
    "    excel_document = openpyxl.load_workbook(directorio) \n",
    "    Hoja = excel_document['Estadistica']\n",
    "    resultado = 'Partida Ganada' if gano else 'Partida Perdida'\n",
    "    Hoja.append([nombre, resultado])\n",
    "    excel_document.save(directorio)\n",
    "    print(\"Partida registrada\")"
   ]
  },
  {
   "cell_type": "code",
   "execution_count": 9,
   "id": "949621ba-1955-4522-a9d7-57d36dadf1fe",
   "metadata": {},
   "outputs": [],
   "source": [
    "#Definimos las estadisticas:\n",
    "\n",
    "def Estadísticas():\n",
    "    directorio ='C:\\\\Users\\\\emmag\\\\Documents\\\\MASTER_DATA_SCIENCE\\\\M1_PHYTON_BASICO\\\\Adivina_Numero.xlsx'\n",
    "    excel_document = openpyxl.load_workbook(directorio)\n",
    "    Hoja = excel_document['Estadistica']\n",
    "    estadisticas = {}\n",
    "    for fila in Hoja.iter_rows(values_only = True):\n",
    "        nombre, resultado = fila\n",
    "        if nombre not in estadisticas:\n",
    "            estadisticas[nombre] = {'Partida Ganada': 0, 'Partida Perdida': 0}\n",
    "        estadisticas[nombre][resultado] += 1\n",
    "    #Para imprimir las partidas textualmente por jugador:\n",
    "    print('Estadísticas Detalladas por Usuario:')\n",
    "    for nombre, resultados in estadisticas.items():\n",
    "        print(f'Usuario: {nombre}')\n",
    "        print(f'Partidas Ganadas: {resultados['Partida Ganada']}')\n",
    "        print(f'Partidas Pertidas: {resultados['Partida Perdida']}')\n",
    "\n",
    "    return estadisticas "
   ]
  },
  {
   "cell_type": "code",
   "execution_count": null,
   "id": "b71b7629-4c52-4643-8bd4-f1e4b33c58e7",
   "metadata": {},
   "outputs": [],
   "source": [
    "def graficar_estadisticas(estadisticas):\n",
    "#Extraemos los datos para el gráfico: \n",
    "    \n",
    "    nombres = list(estadisticas.keys())\n",
    "    ganados = [est['Partida Ganada'] for est in estadisticas.values()]\n",
    "    perdidos = [est['Partida Perdida'] for est in estadisticas.values()]\n",
    "    \n",
    "#Creamos el gráfico: \n",
    "    \n",
    "    grafico.bar(nombres, ganados, label='Partidas Ganadas', color='green')\n",
    "    grafico.bar(nombres, perdidos, bottom=ganados, label='Partidas Perdidas', color='red')\n",
    "    grafico.xlabel('Jugadores')\n",
    "    grafico.ylabel('Número de Partidas')\n",
    "    grafico.title('Partidas Ganadas y Perdidas por Jugador')\n",
    "    grafico.legend()\n",
    "    grafico.xticks(rotation=45)\n",
    "    grafico.tight_layout()\n",
    "    grafico.show()"
   ]
  },
  {
   "cell_type": "code",
   "execution_count": 11,
   "id": "08993db9-3fa7-45c8-b6f4-08695dfd626e",
   "metadata": {},
   "outputs": [
    {
     "name": "stdout",
     "output_type": "stream",
     "text": [
      "1. Partida Modo Solitario \n",
      "2. Partida 2 Jugadores \n",
      "3. Estadística \n",
      "4. Salir\n"
     ]
    },
    {
     "name": "stdin",
     "output_type": "stream",
     "text": [
      "Selecciona una opción:  1\n"
     ]
    },
    {
     "name": "stdout",
     "output_type": "stream",
     "text": [
      "1. Fácil (20 intentos, número entre 1 y 1000) \n",
      "2. Medio (12 intentos, número entre 500 y 750) \n",
      "3. Difícil (5 intentos, número entre 750 y 1000)\n"
     ]
    },
    {
     "name": "stdin",
     "output_type": "stream",
     "text": [
      "Selecciona la dificultad del juego:  1\n"
     ]
    },
    {
     "name": "stdout",
     "output_type": "stream",
     "text": [
      "Intenta adivinar un número entre 1 y 1000.\n"
     ]
    },
    {
     "name": "stdin",
     "output_type": "stream",
     "text": [
      "Introduce tu número:  200\n"
     ]
    },
    {
     "name": "stdout",
     "output_type": "stream",
     "text": [
      "El número es mayor\n",
      "Te quedan 19 intentos.\n"
     ]
    },
    {
     "name": "stdin",
     "output_type": "stream",
     "text": [
      "Introduce tu número:  50\n"
     ]
    },
    {
     "name": "stdout",
     "output_type": "stream",
     "text": [
      "El número es mayor\n",
      "Te quedan 18 intentos.\n"
     ]
    },
    {
     "name": "stdin",
     "output_type": "stream",
     "text": [
      "Introduce tu número:  300\n"
     ]
    },
    {
     "name": "stdout",
     "output_type": "stream",
     "text": [
      "El número es mayor\n",
      "Te quedan 17 intentos.\n"
     ]
    },
    {
     "name": "stdin",
     "output_type": "stream",
     "text": [
      "Introduce tu número:  500\n"
     ]
    },
    {
     "name": "stdout",
     "output_type": "stream",
     "text": [
      "El número es menor\n",
      "Te quedan 16 intentos.\n"
     ]
    },
    {
     "name": "stdin",
     "output_type": "stream",
     "text": [
      "Introduce tu número:  400\n"
     ]
    },
    {
     "name": "stdout",
     "output_type": "stream",
     "text": [
      "El número es menor\n",
      "Te quedan 15 intentos.\n"
     ]
    },
    {
     "name": "stdin",
     "output_type": "stream",
     "text": [
      "Introduce tu número:  350\n"
     ]
    },
    {
     "name": "stdout",
     "output_type": "stream",
     "text": [
      "El número es mayor\n",
      "Te quedan 14 intentos.\n"
     ]
    },
    {
     "name": "stdin",
     "output_type": "stream",
     "text": [
      "Introduce tu número:  360\n"
     ]
    },
    {
     "name": "stdout",
     "output_type": "stream",
     "text": [
      "El número es mayor\n",
      "Te quedan 13 intentos.\n"
     ]
    },
    {
     "name": "stdin",
     "output_type": "stream",
     "text": [
      "Introduce tu número:  370\n"
     ]
    },
    {
     "name": "stdout",
     "output_type": "stream",
     "text": [
      "El número es mayor\n",
      "Te quedan 12 intentos.\n"
     ]
    },
    {
     "name": "stdin",
     "output_type": "stream",
     "text": [
      "Introduce tu número:  380\n"
     ]
    },
    {
     "name": "stdout",
     "output_type": "stream",
     "text": [
      "¡Ehorabuena, es el número correcto! ¡HAS GANADO!\n"
     ]
    },
    {
     "name": "stdin",
     "output_type": "stream",
     "text": [
      "Ingresa tu nombre de usuario para registrar la partida:  Emma\n"
     ]
    },
    {
     "name": "stdout",
     "output_type": "stream",
     "text": [
      "Partida registrada\n",
      "1. Partida Modo Solitario \n",
      "2. Partida 2 Jugadores \n",
      "3. Estadística \n",
      "4. Salir\n"
     ]
    },
    {
     "name": "stdin",
     "output_type": "stream",
     "text": [
      "Selecciona una opción:  2\n"
     ]
    },
    {
     "name": "stdout",
     "output_type": "stream",
     "text": [
      "1. Fácil (20 intentos, número entre 1 y 1000) \n",
      "2. Medio (12 intentos, número entre 500 y 750) \n",
      "3. Difícil (5 intentos, número entre 750 y 1000)\n"
     ]
    },
    {
     "name": "stdin",
     "output_type": "stream",
     "text": [
      "Selecciona la dificultad del juego:  2\n"
     ]
    },
    {
     "name": "stdout",
     "output_type": "stream",
     "text": [
      "Jugador 1, elige un número del 500 al 750:\n"
     ]
    },
    {
     "name": "stdin",
     "output_type": "stream",
     "text": [
      "Número oculto:  ········\n"
     ]
    },
    {
     "name": "stdout",
     "output_type": "stream",
     "text": [
      "Por favor, introduce un número entre 500 y 750.\n"
     ]
    },
    {
     "name": "stdin",
     "output_type": "stream",
     "text": [
      "Número oculto:  ········\n"
     ]
    },
    {
     "name": "stdout",
     "output_type": "stream",
     "text": [
      "Por favor, introduce un número entre 500 y 750.\n"
     ]
    },
    {
     "name": "stdin",
     "output_type": "stream",
     "text": [
      "Número oculto:  ········\n"
     ]
    },
    {
     "name": "stdout",
     "output_type": "stream",
     "text": [
      "Jugador 2, intenta adivinar el número seleccionado por el jugador 1.\n"
     ]
    },
    {
     "name": "stdin",
     "output_type": "stream",
     "text": [
      "Jugador 2, introduce un número entre 500 y 750:  700\n"
     ]
    },
    {
     "name": "stdout",
     "output_type": "stream",
     "text": [
      "¡Ehorabuena, es el número correcto! ¡Jugador 2, HAS GANADO!\n"
     ]
    },
    {
     "name": "stdin",
     "output_type": "stream",
     "text": [
      "Ingresa tu nombre de usuario para registrar la partida:  Emma\n"
     ]
    },
    {
     "name": "stdout",
     "output_type": "stream",
     "text": [
      "Partida registrada\n",
      "1. Partida Modo Solitario \n",
      "2. Partida 2 Jugadores \n",
      "3. Estadística \n",
      "4. Salir\n"
     ]
    },
    {
     "name": "stdin",
     "output_type": "stream",
     "text": [
      "Selecciona una opción:  3\n"
     ]
    },
    {
     "name": "stdout",
     "output_type": "stream",
     "text": [
      "Estadísticas Detalladas por Usuario:\n",
      "Usuario: Emma\n",
      "Partidas Ganadas: 14\n",
      "Partidas Pertidas: 8\n",
      "Usuario: Angel\n",
      "Partidas Ganadas: 5\n",
      "Partidas Pertidas: 3\n",
      "Usuario: Lola\n",
      "Partidas Ganadas: 8\n",
      "Partidas Pertidas: 3\n",
      "Usuario: Elena\n",
      "Partidas Ganadas: 1\n",
      "Partidas Pertidas: 1\n",
      "Usuario: Sofia\n",
      "Partidas Ganadas: 1\n",
      "Partidas Pertidas: 1\n",
      "Usuario: Jaime\n",
      "Partidas Ganadas: 2\n",
      "Partidas Pertidas: 0\n",
      "Usuario: Emm\n",
      "Partidas Ganadas: 11\n",
      "Partidas Pertidas: 1\n"
     ]
    },
    {
     "ename": "NameError",
     "evalue": "name 'graficar_estadisticas' is not defined",
     "output_type": "error",
     "traceback": [
      "\u001b[1;31m---------------------------------------------------------------------------\u001b[0m",
      "\u001b[1;31mNameError\u001b[0m                                 Traceback (most recent call last)",
      "Cell \u001b[1;32mIn[11], line 3\u001b[0m\n\u001b[0;32m      1\u001b[0m \u001b[38;5;66;03m#Juego:\u001b[39;00m\n\u001b[1;32m----> 3\u001b[0m Menú_Principal()\n",
      "Cell \u001b[1;32mIn[2], line 13\u001b[0m, in \u001b[0;36mMenú_Principal\u001b[1;34m()\u001b[0m\n\u001b[0;32m     11\u001b[0m \u001b[38;5;28;01melif\u001b[39;00m opcion\u001b[38;5;241m==\u001b[39m\u001b[38;5;241m3\u001b[39m:\n\u001b[0;32m     12\u001b[0m     estadisticas \u001b[38;5;241m=\u001b[39m Estadísticas()\n\u001b[1;32m---> 13\u001b[0m     graficar_estadisticas(estadisticas)\n\u001b[0;32m     14\u001b[0m \u001b[38;5;28;01melif\u001b[39;00m opcion\u001b[38;5;241m==\u001b[39m\u001b[38;5;241m4\u001b[39m:\n\u001b[0;32m     15\u001b[0m     \u001b[38;5;28mprint\u001b[39m(\u001b[38;5;124m\"\u001b[39m\u001b[38;5;124mGracias por jugar.¡Hasta pronto!\u001b[39m\u001b[38;5;124m\"\u001b[39m)\n",
      "\u001b[1;31mNameError\u001b[0m: name 'graficar_estadisticas' is not defined"
     ]
    }
   ],
   "source": [
    "#Juego:\n",
    "\n",
    "Menú_Principal()"
   ]
  },
  {
   "cell_type": "code",
   "execution_count": null,
   "id": "e041c2fb-e8e3-49dc-a967-f4a02aea8110",
   "metadata": {},
   "outputs": [],
   "source": []
  }
 ],
 "metadata": {
  "kernelspec": {
   "display_name": "Python 3 (ipykernel)",
   "language": "python",
   "name": "python3"
  },
  "language_info": {
   "codemirror_mode": {
    "name": "ipython",
    "version": 3
   },
   "file_extension": ".py",
   "mimetype": "text/x-python",
   "name": "python",
   "nbconvert_exporter": "python",
   "pygments_lexer": "ipython3",
   "version": "3.12.4"
  }
 },
 "nbformat": 4,
 "nbformat_minor": 5
}
